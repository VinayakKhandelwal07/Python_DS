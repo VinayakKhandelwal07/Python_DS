{
 "cells": [
  {
   "cell_type": "code",
   "execution_count": 1,
   "metadata": {},
   "outputs": [
    {
     "name": "stdout",
     "output_type": "stream",
     "text": [
      "[1 2 3 4 5 1]\n",
      "<class 'numpy.ndarray'>\n"
     ]
    },
    {
     "data": {
      "text/plain": [
       "dtype('int64')"
      ]
     },
     "execution_count": 1,
     "metadata": {},
     "output_type": "execute_result"
    }
   ],
   "source": [
    "import numpy as np \n",
    "\n",
    "\n",
    "arr = np.array([1, 2, 3, 4, 5,True,])\n",
    "arrr2 = np.array([4,8.5,32,2,1,])\n",
    "print(arr)\n",
    "\n",
    "print(type(arr))\n",
    "arrr2\n",
    "arr.dtype"
   ]
  },
  {
   "cell_type": "code",
   "execution_count": 2,
   "metadata": {},
   "outputs": [
    {
     "data": {
      "text/plain": [
       "6"
      ]
     },
     "execution_count": 2,
     "metadata": {},
     "output_type": "execute_result"
    }
   ],
   "source": [
    "arr.size # no.of elements\n",
    "\n"
   ]
  },
  {
   "cell_type": "code",
   "execution_count": 3,
   "metadata": {},
   "outputs": [
    {
     "data": {
      "text/plain": [
       "1"
      ]
     },
     "execution_count": 3,
     "metadata": {},
     "output_type": "execute_result"
    }
   ],
   "source": [
    "arr.ndim # to check the diminesion of array\n",
    "\n",
    "\n"
   ]
  },
  {
   "cell_type": "code",
   "execution_count": 4,
   "metadata": {},
   "outputs": [
    {
     "name": "stdout",
     "output_type": "stream",
     "text": [
      "2.0.0\n"
     ]
    }
   ],
   "source": [
    "\n",
    "print(np.__version__)"
   ]
  },
  {
   "cell_type": "code",
   "execution_count": 5,
   "metadata": {},
   "outputs": [
    {
     "name": "stdout",
     "output_type": "stream",
     "text": [
      "[23 24 25 26 27 23]\n"
     ]
    }
   ],
   "source": [
    "print(arr + 22)\n"
   ]
  },
  {
   "cell_type": "code",
   "execution_count": 6,
   "metadata": {},
   "outputs": [
    {
     "name": "stdout",
     "output_type": "stream",
     "text": [
      "100\n"
     ]
    }
   ],
   "source": [
    "(arr[1]) =  100\n",
    "print(arr[1])"
   ]
  },
  {
   "cell_type": "code",
   "execution_count": 7,
   "metadata": {},
   "outputs": [
    {
     "name": "stdout",
     "output_type": "stream",
     "text": [
      "[ 4.   8.5 32.   2.   1. ]\n"
     ]
    },
    {
     "data": {
      "text/plain": [
       "dtype('float64')"
      ]
     },
     "execution_count": 7,
     "metadata": {},
     "output_type": "execute_result"
    }
   ],
   "source": [
    "print(arrr2)\n",
    "arrr2.dtype # to check datatype \n"
   ]
  },
  {
   "cell_type": "markdown",
   "metadata": {},
   "source": [
    "2D ARRAYS"
   ]
  },
  {
   "cell_type": "code",
   "execution_count": 8,
   "metadata": {},
   "outputs": [
    {
     "data": {
      "text/plain": [
       "[[1, 3, 5], [2, 4, 6], [0, 8, 9], [82, 3, 2], [1, 2, 3]]"
      ]
     },
     "execution_count": 8,
     "metadata": {},
     "output_type": "execute_result"
    }
   ],
   "source": [
    "ls= [[1,3,5],\n",
    "       [2,4,6],\n",
    "       [0,8,9],\n",
    "       [82,3,2,],\n",
    "       [1,2,3,]]\n",
    "\n",
    "ls\n"
   ]
  },
  {
   "cell_type": "code",
   "execution_count": 9,
   "metadata": {},
   "outputs": [],
   "source": [
    "import numpy as np # type: ignore\n"
   ]
  },
  {
   "cell_type": "code",
   "execution_count": null,
   "metadata": {},
   "outputs": [],
   "source": []
  },
  {
   "cell_type": "code",
   "execution_count": null,
   "metadata": {},
   "outputs": [],
   "source": []
  },
  {
   "cell_type": "code",
   "execution_count": 10,
   "metadata": {},
   "outputs": [
    {
     "ename": "NameError",
     "evalue": "name 'arr1' is not defined",
     "output_type": "error",
     "traceback": [
      "\u001b[1;31m---------------------------------------------------------------------------\u001b[0m",
      "\u001b[1;31mNameError\u001b[0m                                 Traceback (most recent call last)",
      "Cell \u001b[1;32mIn[10], line 1\u001b[0m\n\u001b[1;32m----> 1\u001b[0m \u001b[38;5;28mprint\u001b[39m(\u001b[43marr1\u001b[49m[\u001b[38;5;241m0\u001b[39m:,\u001b[38;5;241m0\u001b[39m:\u001b[38;5;241m3\u001b[39m])\n",
      "\u001b[1;31mNameError\u001b[0m: name 'arr1' is not defined"
     ]
    }
   ],
   "source": [
    "\n",
    "print(arr1[0:,0:3])"
   ]
  },
  {
   "cell_type": "code",
   "execution_count": null,
   "metadata": {},
   "outputs": [],
   "source": []
  },
  {
   "cell_type": "code",
   "execution_count": null,
   "metadata": {},
   "outputs": [
    {
     "name": "stdout",
     "output_type": "stream",
     "text": [
      "[6 4]\n"
     ]
    }
   ],
   "source": [
    "arr1[1,1:] = [6,4 ]\n",
    "print(arr1[1,1:])"
   ]
  },
  {
   "cell_type": "code",
   "execution_count": null,
   "metadata": {},
   "outputs": [
    {
     "name": "stdout",
     "output_type": "stream",
     "text": [
      "[[2 6 4]\n",
      " [0 8 9]]\n"
     ]
    }
   ],
   "source": [
    "print(arr1[1:3])"
   ]
  },
  {
   "cell_type": "code",
   "execution_count": null,
   "metadata": {},
   "outputs": [],
   "source": []
  },
  {
   "cell_type": "markdown",
   "metadata": {},
   "source": []
  },
  {
   "cell_type": "code",
   "execution_count": null,
   "metadata": {},
   "outputs": [
    {
     "data": {
      "text/plain": [
       "list"
      ]
     },
     "execution_count": 62,
     "metadata": {},
     "output_type": "execute_result"
    }
   ],
   "source": [
    "type(ls)\n"
   ]
  },
  {
   "cell_type": "code",
   "execution_count": null,
   "metadata": {},
   "outputs": [
    {
     "data": {
      "text/plain": [
       "array([[ 1,  3,  5],\n",
       "       [ 2,  4,  6],\n",
       "       [ 0,  8,  9],\n",
       "       [82,  3,  2],\n",
       "       [ 1,  2,  3]])"
      ]
     },
     "execution_count": 70,
     "metadata": {},
     "output_type": "execute_result"
    }
   ],
   "source": [
    "arr1 = np.array(ls)\n",
    "arr1"
   ]
  },
  {
   "cell_type": "code",
   "execution_count": null,
   "metadata": {},
   "outputs": [
    {
     "data": {
      "text/plain": [
       "(5, 3)"
      ]
     },
     "execution_count": 71,
     "metadata": {},
     "output_type": "execute_result"
    }
   ],
   "source": [
    "arr1.shape"
   ]
  },
  {
   "cell_type": "code",
   "execution_count": null,
   "metadata": {},
   "outputs": [
    {
     "data": {
      "text/plain": [
       "(3, 3)"
      ]
     },
     "execution_count": 66,
     "metadata": {},
     "output_type": "execute_result"
    }
   ],
   "source": [
    "arr1.shape"
   ]
  },
  {
   "cell_type": "code",
   "execution_count": null,
   "metadata": {},
   "outputs": [
    {
     "data": {
      "text/plain": [
       "2"
      ]
     },
     "execution_count": 72,
     "metadata": {},
     "output_type": "execute_result"
    }
   ],
   "source": [
    "arr1.ndim"
   ]
  },
  {
   "cell_type": "code",
   "execution_count": null,
   "metadata": {},
   "outputs": [
    {
     "name": "stdout",
     "output_type": "stream",
     "text": [
      "[ 4.   8.5 32.   2.   1. ]\n"
     ]
    },
    {
     "data": {
      "text/plain": [
       "dtype('float64')"
      ]
     },
     "execution_count": 39,
     "metadata": {},
     "output_type": "execute_result"
    }
   ],
   "source": [
    "print(arrr2)\n",
    "arrr2.dtype # to check datatype \n"
   ]
  },
  {
   "cell_type": "code",
   "execution_count": null,
   "metadata": {},
   "outputs": [
    {
     "data": {
      "text/plain": [
       "array([110,  96,  48,  49, 176, 145,  61,  26, 120,  98, 100, 151, 133,\n",
       "       158, 164, 197, 155, 196, 191,  37,   3, 179,  45,  92,  72, 117,\n",
       "       157,  55, 196, 180, 191, 112,  70, 188,  52,  61,  42,  79,  92,\n",
       "       129, 142,  45, 196, 161,   8, 130,  82,  27,  61, 132,  23,  35,\n",
       "        38, 102,  47,  15, 131, 195,  60, 151,  90, 150, 115, 134, 124,\n",
       "       142, 155, 143,  60, 174,  85,  43, 153,  83,  40,   6,   5, 122,\n",
       "        71, 129, 176, 117, 150,  96,  76,  86, 132,  41, 136,  73, 128,\n",
       "       198, 134, 188, 106, 169,  60,  39,  83,  71, 110, 109, 108,  58,\n",
       "        62, 166, 150, 137,  43,   4, 196,  10,   3,   5, 197, 132, 158,\n",
       "        11, 130,  66,  79, 136,  11, 198, 124, 157,  72,  22, 159,  45,\n",
       "        56,  79,  42, 155,  23,  74, 167, 118, 183,  16,  33, 159,  30,\n",
       "        26, 170, 128,  96,  77, 169, 166,  43,  75, 107,  44, 152,  76,\n",
       "        14, 181, 172, 129,  59,   9,  30, 122, 131,  59, 137,  85, 112,\n",
       "        28,  54, 120, 136, 157, 169,   3, 113, 193, 167, 174, 132,   9,\n",
       "       149, 149, 136, 194, 140,  69,  97, 128, 107,  95,  21, 198,  95,\n",
       "        48, 145,  71,  23,  27, 156,  45,  23,  91,  53, 130, 133, 179,\n",
       "         1,  48, 122,  77, 192,  67, 190, 146, 135, 142,  79, 189,  60,\n",
       "        81,  48,  57, 149, 164, 128,   2, 187, 129,  58,  50, 111,   4,\n",
       "       158, 133, 165, 129, 104, 163, 152,   1, 144, 190,   4, 136, 114,\n",
       "       113,  84,  89,  22, 192,  74,  52, 184, 191, 181, 116,  41,  59,\n",
       "        54, 147, 188,  36, 176,  83, 143,  39, 163,  18,  22, 120,  81,\n",
       "        64,  72,   7, 128, 182,  85,  53, 183,  44, 165,  96, 155, 188,\n",
       "        67,  45, 122,  39, 152,   8, 107, 158,  39, 170,  12, 170,   7,\n",
       "       173,   9,  49, 176, 194, 189,  71,  55,  48,  26,  54,  48, 188,\n",
       "       176,  12,  77, 150, 103, 181, 199, 105, 117, 196, 162,  23, 131,\n",
       "       147, 196, 128,  14, 183,  70, 124,  83, 105,  93,  10, 112,   4,\n",
       "        60,  48,  34, 145, 150,  67, 111,   4, 134,   6, 156,  90, 172,\n",
       "       135,  33,  70,  74, 165, 111,  50, 143,   9, 168,  39,  25,  30,\n",
       "        88,  80,  21,  52, 167,  97, 102,  10, 172, 196,  76,  30,  75,\n",
       "       104, 198, 172, 153, 190, 176, 127,  50, 187, 149,  51,   8,  66,\n",
       "        69, 136,  55,  79,  32,  45,  13,  19, 133, 149,  39,  46, 174,\n",
       "       164,  25,  14,  61, 103,  20, 116, 126, 120, 123,  50,  17,  58,\n",
       "        87, 158, 137,  11,  98,  67, 120, 127, 105, 123,  37, 129, 186,\n",
       "       163, 168, 150, 106,  85,  26, 136, 126,  83,  32, 133, 167, 119,\n",
       "       191, 187,  91, 119, 161, 118, 180,  73, 111,  64,  58, 102,   2,\n",
       "        67,  45, 123, 148,  60,  11,  12,  21,  39, 181, 183,  22,  90,\n",
       "       162, 199, 179,  51,  99,  43,  30, 115, 145, 131, 124, 102, 157,\n",
       "       181, 118, 100, 156,  92, 162, 164, 184,  56,  37, 168,   2,  63,\n",
       "        19, 162, 106, 119,  31,  32], dtype=int32)"
      ]
     },
     "execution_count": 93,
     "metadata": {},
     "output_type": "execute_result"
    }
   ],
   "source": [
    "arr = np.random.randint(1,200,500)\n",
    "arr"
   ]
  },
  {
   "cell_type": "code",
   "execution_count": null,
   "metadata": {},
   "outputs": [
    {
     "ename": "IndentationError",
     "evalue": "unindent does not match any outer indentation level (<string>, line 5)",
     "output_type": "error",
     "traceback": [
      "\u001b[1;36m  File \u001b[1;32m<string>:5\u001b[1;36m\u001b[0m\n\u001b[1;33m    print(count)\u001b[0m\n\u001b[1;37m                       ^\u001b[0m\n\u001b[1;31mIndentationError\u001b[0m\u001b[1;31m:\u001b[0m unindent does not match any outer indentation level\n"
     ]
    }
   ],
   "source": []
  },
  {
   "cell_type": "code",
   "execution_count": null,
   "metadata": {},
   "outputs": [
    {
     "data": {
      "text/plain": [
       "array([ 96,  48,  49,  61,  26,  98, 100,  37,   3,  45,  92,  72,  55,\n",
       "        70,  52,  61,  42,  79,  92,  45,   8,  82,  27,  61,  23,  35,\n",
       "        38,  47,  15,  60,  90,  60,  85,  43,  83,  40,   6,   5,  71,\n",
       "        96,  76,  86,  41,  73,  60,  39,  83,  71,  58,  62,  43,   4,\n",
       "        10,   3,   5,  11,  66,  79,  11,  72,  22,  45,  56,  79,  42,\n",
       "        23,  74,  16,  33,  30,  26,  96,  77,  43,  75,  44,  76,  14,\n",
       "        59,   9,  30,  59,  85,  28,  54,   3,   9,  69,  97,  95,  21,\n",
       "        95,  48,  71,  23,  27,  45,  23,  91,  53,   1,  48,  77,  67,\n",
       "        79,  60,  81,  48,  57,   2,  58,  50,   4,   1,   4,  84,  89,\n",
       "        22,  74,  52,  41,  59,  54,  36,  83,  39,  18,  22,  81,  64,\n",
       "        72,   7,  85,  53,  44,  96,  67,  45,  39,   8,  39,  12,   7,\n",
       "         9,  49,  71,  55,  48,  26,  54,  48,  12,  77,  23,  14,  70,\n",
       "        83,  93,  10,   4,  60,  48,  34,  67,   4,   6,  90,  33,  70,\n",
       "        74,  50,   9,  39,  25,  30,  88,  80,  21,  52,  97,  10,  76,\n",
       "        30,  75,  50,  51,   8,  66,  69,  55,  79,  32,  45,  13,  19,\n",
       "        39,  46,  25,  14,  61,  20,  50,  17,  58,  87,  11,  98,  67,\n",
       "        37,  85,  26,  83,  32,  91,  73,  64,  58,   2,  67,  45,  60,\n",
       "        11,  12,  21,  39,  22,  90,  51,  99,  43,  30, 100,  92,  56,\n",
       "        37,   2,  63,  19,  31,  32], dtype=int32)"
      ]
     },
     "execution_count": 99,
     "metadata": {},
     "output_type": "execute_result"
    }
   ],
   "source": [
    "arr[arr <=100]"
   ]
  },
  {
   "cell_type": "code",
   "execution_count": null,
   "metadata": {},
   "outputs": [
    {
     "data": {
      "text/plain": [
       "240"
      ]
     },
     "execution_count": 101,
     "metadata": {},
     "output_type": "execute_result"
    }
   ],
   "source": [
    "arr[arr <= 100].size"
   ]
  },
  {
   "cell_type": "code",
   "execution_count": null,
   "metadata": {},
   "outputs": [
    {
     "data": {
      "text/plain": [
       "(240,)"
      ]
     },
     "execution_count": 103,
     "metadata": {},
     "output_type": "execute_result"
    }
   ],
   "source": [
    "arr[arr <= 100].shape"
   ]
  },
  {
   "cell_type": "code",
   "execution_count": null,
   "metadata": {},
   "outputs": [
    {
     "data": {
      "text/plain": [
       "260"
      ]
     },
     "execution_count": 106,
     "metadata": {},
     "output_type": "execute_result"
    }
   ],
   "source": [
    "arr[arr > 100].size"
   ]
  },
  {
   "cell_type": "code",
   "execution_count": null,
   "metadata": {},
   "outputs": [
    {
     "data": {
      "text/plain": [
       "500"
      ]
     },
     "execution_count": 109,
     "metadata": {},
     "output_type": "execute_result"
    }
   ],
   "source": [
    "len(arr <= 100)"
   ]
  },
  {
   "cell_type": "code",
   "execution_count": null,
   "metadata": {},
   "outputs": [
    {
     "data": {
      "text/plain": [
       "array([[198,  64, 103,  96, 107],\n",
       "       [155,  40,  43,  26,   2],\n",
       "       [175, 161,  61,  24,  61],\n",
       "       [179,  67,  26, 134, 185],\n",
       "       [189, 141, 153, 100,   8],\n",
       "       [ 87,  81, 193, 129, 117],\n",
       "       [146,  39, 162,  18, 139],\n",
       "       [145, 163,  64,  94, 126],\n",
       "       [172, 182,  44,  40,  44],\n",
       "       [171,  30, 181,  62, 172]], dtype=int32)"
      ]
     },
     "execution_count": 111,
     "metadata": {},
     "output_type": "execute_result"
    }
   ],
   "source": [
    "arr3 = np.random.randint(1,200,(10,5))\n",
    "arr3"
   ]
  },
  {
   "cell_type": "code",
   "execution_count": null,
   "metadata": {},
   "outputs": [
    {
     "data": {
      "text/plain": [
       "array([0., 0., 0., 0., 0., 0., 0., 0., 0., 0.])"
      ]
     },
     "execution_count": 113,
     "metadata": {},
     "output_type": "execute_result"
    }
   ],
   "source": [
    "arr_zero = np.zeros(10)\n",
    "arr_zero"
   ]
  },
  {
   "cell_type": "code",
   "execution_count": null,
   "metadata": {},
   "outputs": [
    {
     "data": {
      "text/plain": [
       "array([[0., 0., 0.],\n",
       "       [0., 0., 0.],\n",
       "       [0., 0., 0.],\n",
       "       [0., 0., 0.],\n",
       "       [0., 0., 0.],\n",
       "       [0., 0., 0.],\n",
       "       [0., 0., 0.],\n",
       "       [0., 0., 0.],\n",
       "       [0., 0., 0.],\n",
       "       [0., 0., 0.]])"
      ]
     },
     "execution_count": 114,
     "metadata": {},
     "output_type": "execute_result"
    }
   ],
   "source": [
    "arr_zero = np.zeros((10,3))\n",
    "arr_zero"
   ]
  },
  {
   "cell_type": "code",
   "execution_count": null,
   "metadata": {},
   "outputs": [
    {
     "ename": "TypeError",
     "evalue": "'list' object is not callable",
     "output_type": "error",
     "traceback": [
      "\u001b[1;31m---------------------------------------------------------------------------\u001b[0m",
      "\u001b[1;31mTypeError\u001b[0m                                 Traceback (most recent call last)",
      "Cell \u001b[1;32mIn[123], line 1\u001b[0m\n\u001b[1;32m----> 1\u001b[0m ls \u001b[38;5;241m=\u001b[39m \u001b[38;5;28;43mlist\u001b[39;49m\u001b[43m(\u001b[49m\u001b[38;5;28;43mrange\u001b[39;49m\u001b[43m(\u001b[49m\u001b[38;5;241;43m10\u001b[39;49m\u001b[43m)\u001b[49m\u001b[43m)\u001b[49m\n\u001b[0;32m      2\u001b[0m ls\n",
      "\u001b[1;31mTypeError\u001b[0m: 'list' object is not callable"
     ]
    }
   ],
   "source": []
  },
  {
   "cell_type": "code",
   "execution_count": null,
   "metadata": {},
   "outputs": [
    {
     "data": {
      "text/plain": [
       "array([ 0,  1,  2,  3,  4,  5,  6,  7,  8,  9, 10, 11, 12, 13, 14, 15, 16,\n",
       "       17, 18, 19, 20, 21, 22, 23, 24])"
      ]
     },
     "execution_count": 131,
     "metadata": {},
     "output_type": "execute_result"
    }
   ],
   "source": [
    "ar1 = np.arange(25)\n",
    "ar1"
   ]
  },
  {
   "cell_type": "code",
   "execution_count": null,
   "metadata": {},
   "outputs": [
    {
     "ename": "NameError",
     "evalue": "name 'ar1' is not defined",
     "output_type": "error",
     "traceback": [
      "\u001b[1;31m---------------------------------------------------------------------------\u001b[0m",
      "\u001b[1;31mNameError\u001b[0m                                 Traceback (most recent call last)",
      "Cell \u001b[1;32mIn[1], line 1\u001b[0m\n\u001b[1;32m----> 1\u001b[0m \u001b[43mar1\u001b[49m\u001b[38;5;241m.\u001b[39mreshape(\u001b[38;5;241m5\u001b[39m,\u001b[38;5;241m5\u001b[39m)\n",
      "\u001b[1;31mNameError\u001b[0m: name 'ar1' is not defined"
     ]
    }
   ],
   "source": []
  },
  {
   "cell_type": "code",
   "execution_count": null,
   "metadata": {},
   "outputs": [
    {
     "data": {
      "text/plain": [
       "array([[[ 27,  85,  99],\n",
       "        [ 54, 177,  14],\n",
       "        [ 81, 121,   1],\n",
       "        [ 20,  95,  32],\n",
       "        [175, 116,  20]],\n",
       "\n",
       "       [[  6,  45,   8],\n",
       "        [111, 138, 103],\n",
       "        [ 27, 160, 179],\n",
       "        [ 35,  97, 116],\n",
       "        [  8, 114,  31]],\n",
       "\n",
       "       [[168,  96,  99],\n",
       "        [ 68,  25,  34],\n",
       "        [138, 198, 157],\n",
       "        [124,   7,   3],\n",
       "        [180, 115,   9]]], dtype=int32)"
      ]
     },
     "execution_count": 4,
     "metadata": {},
     "output_type": "execute_result"
    }
   ],
   "source": [
    "import numpy as np\n",
    "arr3 = np.random.randint(1,200,(3,5,3))\n",
    "arr3"
   ]
  },
  {
   "cell_type": "code",
   "execution_count": null,
   "metadata": {},
   "outputs": [
    {
     "data": {
      "text/plain": [
       "array([[96, 99],\n",
       "       [25, 34]], dtype=int32)"
      ]
     },
     "execution_count": 5,
     "metadata": {},
     "output_type": "execute_result"
    }
   ],
   "source": [
    "arr3[2,0:2,1:3]\n",
    "     "
   ]
  },
  {
   "cell_type": "code",
   "execution_count": null,
   "metadata": {},
   "outputs": [
    {
     "data": {
      "text/plain": [
       "(3, 5, 3)"
      ]
     },
     "execution_count": 7,
     "metadata": {},
     "output_type": "execute_result"
    }
   ],
   "source": [
    "arr3.shape"
   ]
  },
  {
   "cell_type": "code",
   "execution_count": null,
   "metadata": {},
   "outputs": [
    {
     "data": {
      "text/plain": [
       "array([[[ 27,  85,  99],\n",
       "        [ 54, 177,  14],\n",
       "        [ 81, 121,   1],\n",
       "        [ 20,  95,  32],\n",
       "        [175, 116,  20]],\n",
       "\n",
       "       [[  6,  45,   8],\n",
       "        [111, 138, 103],\n",
       "        [ 27, 160, 179],\n",
       "        [ 35,  97, 116],\n",
       "        [  8, 114,  31]],\n",
       "\n",
       "       [[168,  96,  99],\n",
       "        [ 68,  25,  34],\n",
       "        [138, 198, 157],\n",
       "        [124,   7,   3],\n",
       "        [180, 115,   9]]], dtype=int32)"
      ]
     },
     "execution_count": 21,
     "metadata": {},
     "output_type": "execute_result"
    }
   ],
   "source": [
    "arr3[0:,0]\n",
    "\n",
    "arr3"
   ]
  },
  {
   "cell_type": "code",
   "execution_count": null,
   "metadata": {},
   "outputs": [
    {
     "data": {
      "text/plain": [
       "array([[ 27,  85,  99],\n",
       "       [  6,  45,   8],\n",
       "       [168,  96,  99]], dtype=int32)"
      ]
     },
     "execution_count": 22,
     "metadata": {},
     "output_type": "execute_result"
    }
   ],
   "source": [
    "arr3[:,-5,:]"
   ]
  },
  {
   "cell_type": "code",
   "execution_count": null,
   "metadata": {},
   "outputs": [
    {
     "data": {
      "text/plain": [
       "array([711,  82,  91])"
      ]
     },
     "execution_count": 24,
     "metadata": {},
     "output_type": "execute_result"
    }
   ],
   "source": [
    "arr = np.array([711,82,91])\n",
    "arr"
   ]
  },
  {
   "cell_type": "code",
   "execution_count": null,
   "metadata": {},
   "outputs": [
    {
     "data": {
      "text/plain": [
       "np.int64(82)"
      ]
     },
     "execution_count": 26,
     "metadata": {},
     "output_type": "execute_result"
    }
   ],
   "source": [
    "min(arr)"
   ]
  },
  {
   "cell_type": "code",
   "execution_count": null,
   "metadata": {},
   "outputs": [
    {
     "data": {
      "text/plain": [
       "np.int64(884)"
      ]
     },
     "execution_count": 29,
     "metadata": {},
     "output_type": "execute_result"
    }
   ],
   "source": [
    "np.sum(arr)"
   ]
  },
  {
   "cell_type": "code",
   "execution_count": null,
   "metadata": {},
   "outputs": [
    {
     "data": {
      "text/plain": [
       "np.float64(19.0)"
      ]
     },
     "execution_count": 56,
     "metadata": {},
     "output_type": "execute_result"
    }
   ],
   "source": [
    "np.mean(arr)"
   ]
  },
  {
   "cell_type": "code",
   "execution_count": null,
   "metadata": {},
   "outputs": [
    {
     "data": {
      "text/plain": [
       "np.int64(100)"
      ]
     },
     "execution_count": 55,
     "metadata": {},
     "output_type": "execute_result"
    }
   ],
   "source": [
    "max(arr)"
   ]
  },
  {
   "cell_type": "code",
   "execution_count": null,
   "metadata": {},
   "outputs": [
    {
     "data": {
      "text/plain": [
       "<function ndarray.sort>"
      ]
     },
     "execution_count": 54,
     "metadata": {},
     "output_type": "execute_result"
    }
   ],
   "source": [
    "arr.sort"
   ]
  },
  {
   "cell_type": "code",
   "execution_count": null,
   "metadata": {},
   "outputs": [],
   "source": []
  },
  {
   "cell_type": "code",
   "execution_count": null,
   "metadata": {},
   "outputs": [],
   "source": []
  },
  {
   "cell_type": "code",
   "execution_count": null,
   "metadata": {},
   "outputs": [],
   "source": []
  },
  {
   "cell_type": "code",
   "execution_count": null,
   "metadata": {},
   "outputs": [
    {
     "data": {
      "text/plain": [
       "array([ 82,  91, 711])"
      ]
     },
     "execution_count": 34,
     "metadata": {},
     "output_type": "execute_result"
    }
   ],
   "source": [
    "arr.sort()\n",
    "arr"
   ]
  }
 ],
 "metadata": {
  "kernelspec": {
   "display_name": "Python 3",
   "language": "python",
   "name": "python3"
  },
  "language_info": {
   "codemirror_mode": {
    "name": "ipython",
    "version": 3
   },
   "file_extension": ".py",
   "mimetype": "text/x-python",
   "name": "python",
   "nbconvert_exporter": "python",
   "pygments_lexer": "ipython3",
   "version": "3.12.4"
  }
 },
 "nbformat": 4,
 "nbformat_minor": 2
}
